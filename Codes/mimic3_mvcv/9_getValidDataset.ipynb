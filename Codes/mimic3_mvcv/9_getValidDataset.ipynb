{
 "cells": [
  {
   "cell_type": "markdown",
   "metadata": {},
   "source": [
    "# Valid Dataset\n",
    "\n",
    "Here we only keep admissions which are the first admissions of some patients and are of patients >= 15 years old."
   ]
  },
  {
   "cell_type": "code",
   "execution_count": 1,
   "metadata": {
    "collapsed": true
   },
   "outputs": [],
   "source": [
    "from __future__ import print_function\n",
    "\n",
    "import psycopg2\n",
    "import datetime\n",
    "import sys\n",
    "from operator import itemgetter, attrgetter, methodcaller\n",
    "import numpy as np\n",
    "import itertools\n",
    "import os.path\n",
    "import matplotlib.pyplot as plt\n",
    "import math\n",
    "from multiprocessing import Pool, cpu_count\n",
    "import re\n",
    "import traceback\n",
    "import shutil\n",
    "\n",
    "from utils import getConnection\n",
    "from utils import parseUnitsMap\n",
    "from utils import parseNum\n",
    "from utils import sparsify\n",
    "\n",
    "%matplotlib inline"
   ]
  },
  {
   "cell_type": "code",
   "execution_count": 2,
   "metadata": {},
   "outputs": [
    {
     "name": "stdout",
     "output_type": "stream",
     "text": [
      "58576 [194627, 137030, 152528, 147541, 146480, 196830, 181257, 187851, 129808, 162786]\n",
      "46283 [194627, 137030, 152528, 147541, 146480, 196830, 181257, 187851, 152565, 170719]\n"
     ]
    }
   ],
   "source": [
    "_adm_first = np.load('res/admission_first_ids.npy').tolist()\n",
    "admission_first_ids_list = _adm_first['admission_ids']\n",
    "\n",
    "admission_ids = [re.match(r'adm\\-(\\d+)\\.npy', x) for x in os.listdir('admdata/')]\n",
    "admission_ids = [int(x.group(1)) for x in admission_ids if x is not None]\n",
    "print(len(admission_ids), admission_ids[:10])\n",
    "\n",
    "admission_first_ids_set = set(admission_first_ids_list)\n",
    "admission_first_ids = [x for x in admission_ids if x in admission_first_ids_set]\n",
    "print(len(admission_first_ids), admission_first_ids[:10])"
   ]
  },
  {
   "cell_type": "code",
   "execution_count": 3,
   "metadata": {
    "collapsed": true
   },
   "outputs": [],
   "source": [
    "TARGETDIR = '../../Data/admdata_valid'\n",
    "if not os.path.exists(TARGETDIR):\n",
    "    os.makedirs(TARGETDIR)"
   ]
  },
  {
   "cell_type": "markdown",
   "metadata": {},
   "source": [
    "## Store valid data\n",
    "\n",
    "We store all datafiles belonging to valid admission ids in a specific folder (../../Data/admdata_valid)"
   ]
  },
  {
   "cell_type": "code",
   "execution_count": 4,
   "metadata": {
    "collapsed": true
   },
   "outputs": [],
   "source": [
    "def copy_valid_admissions(aid):\n",
    "    if aid in admission_first_ids_set:\n",
    "        res = np.load(os.path.join('admdata', 'adm-%.6d.npy' % aid)).tolist()\n",
    "        general = res['general']\n",
    "        age = general[2]\n",
    "        if age >= 15 * 365.25:\n",
    "            np.save(os.path.join(TARGETDIR, 'adm-%.6d.npy' % aid), res)\n",
    "        \n",
    "p = Pool()\n",
    "p.map(copy_valid_admissions, admission_ids)\n",
    "p.close()\n",
    "p.join()"
   ]
  }
 ],
 "metadata": {
  "kernelspec": {
   "display_name": "Python 3",
   "language": "python",
   "name": "python3"
  },
  "language_info": {
   "codemirror_mode": {
    "name": "ipython",
    "version": 3
   },
   "file_extension": ".py",
   "mimetype": "text/x-python",
   "name": "python",
   "nbconvert_exporter": "python",
   "pygments_lexer": "ipython3",
   "version": "3.6.1"
  }
 },
 "nbformat": 4,
 "nbformat_minor": 2
}
